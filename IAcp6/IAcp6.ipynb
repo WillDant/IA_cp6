{
  "nbformat": 4,
  "nbformat_minor": 0,
  "metadata": {
    "colab": {
      "provenance": []
    },
    "kernelspec": {
      "name": "python3",
      "display_name": "Python 3"
    },
    "language_info": {
      "name": "python"
    }
  },
  "cells": [
    {
      "cell_type": "markdown",
      "source": [
        "# IA & CHATBOT - CP6\n",
        "[RM552671] - Willian Daniel Oliveira Dantas\n",
        "\n",
        "Disponível em: https://github.com/WillDant/IA_cp6\n"
      ],
      "metadata": {
        "id": "JGgIbpAQZCOR"
      }
    },
    {
      "cell_type": "code",
      "execution_count": null,
      "metadata": {
        "id": "y8qo-b3Pvf7D"
      },
      "outputs": [],
      "source": [
        "\"\"\"\n",
        "Exemplo 1: Titanic Dataset\n",
        "\n",
        "Descrição do Conjunto de Dados\n",
        "Origem: Kaggle\n",
        "Nome: Titanic: Machine Learning from Disaster\n",
        "Tamanho: 60 KB\n",
        "Quantidade de Registros: 891 registros\n",
        "Linhas x Colunas: 418 linhas x 11 colunas\n",
        "Dados Faltantes: Algumas colunas possuem dados faltantes, como 'Age', 'Cabin' e 'Embarked'.\n",
        "\n",
        "Objetivo do Modelo\n",
        "Prever a tarifa (Fare) paga pelos passageiros com base em variáveis como idade, gênero, classe de cabine, etc.\n",
        "\"\"\""
      ]
    },
    {
      "cell_type": "markdown",
      "source": [
        "# Justificativa\n",
        "Primeiramente pensei em realizar uma analise preditiva com o objetivo de identificar a probabilidade de sobrevivência dos indivíduos, mas devido a falta de dados no datasets, o que acabou dificultando a analise, eu acabei escolhendo faze predição da \"Fare\" que é a tarifa paga pelo embarque, baseada nos dados fornecidos a partir do dataset no Kaggle."
      ],
      "metadata": {
        "id": "RYy0sgAWckD5"
      }
    },
    {
      "cell_type": "code",
      "source": [
        "import pandas as pd\n",
        "from sklearn.preprocessing import StandardScaler"
      ],
      "metadata": {
        "id": "DUCI0WLe1l4T"
      },
      "execution_count": null,
      "outputs": []
    },
    {
      "cell_type": "code",
      "source": [
        "# Carregando dados do dataset\n",
        "data = pd.read_csv('test_titanic.csv')"
      ],
      "metadata": {
        "id": "bqRTUWDq1pTv"
      },
      "execution_count": null,
      "outputs": []
    },
    {
      "cell_type": "code",
      "source": [
        "# Verificando as primeiras linhas do DataFrame\n",
        "print(data.head())\n",
        "\n",
        "# Verificando se a coluna 'Fare' contém valores ausentes\n",
        "print(data['Fare'].isnull().sum())"
      ],
      "metadata": {
        "id": "KBq3C-4TYfo8"
      },
      "execution_count": null,
      "outputs": []
    },
    {
      "cell_type": "code",
      "source": [
        "from sklearn.preprocessing import StandardScaler\n",
        "\n",
        "# Carregando dados do topo do Dataset\n",
        "data = pd.read_csv('test_titanic.csv')"
      ],
      "metadata": {
        "id": "a_79uV4fbzxG"
      },
      "execution_count": null,
      "outputs": []
    },
    {
      "cell_type": "code",
      "source": [
        "# Tratando valores faltantes (nulos)\n",
        "data['Age'].fillna(data['Age'].median(), inplace=True)\n",
        "data['Fare'].fillna(data['Fare'].median(), inplace=True)  # Tratar valores faltantes em 'Fare'\n",
        "data.drop('Cabin', axis=1, inplace=True)  # Muitas informações faltantes"
      ],
      "metadata": {
        "id": "ypcxj3jeb2_v"
      },
      "execution_count": null,
      "outputs": []
    },
    {
      "cell_type": "code",
      "source": [
        "# Criando variáveis dummy\n",
        "data = pd.get_dummies(data, columns=['Sex', 'Embarked', 'Pclass'], drop_first=True)"
      ],
      "metadata": {
        "id": "ltH8nI8-b6vx"
      },
      "execution_count": null,
      "outputs": []
    },
    {
      "cell_type": "code",
      "source": [
        "# Excluindo colunas desnecessárias para o treinamento do modelo\n",
        "data.drop(['Name', 'Ticket', 'PassengerId'], axis=1, inplace=True)"
      ],
      "metadata": {
        "id": "tCYQgKRbb9XB"
      },
      "execution_count": null,
      "outputs": []
    },
    {
      "cell_type": "code",
      "source": [
        "# Normalizando variáveis contínuas\n",
        "scaler = StandardScaler()\n",
        "data[['Age']] = scaler.fit_transform(data[['Age']])"
      ],
      "metadata": {
        "id": "dQoiROdUb_xR"
      },
      "execution_count": null,
      "outputs": []
    },
    {
      "cell_type": "code",
      "source": [
        "# Verificando os primeiros registros do dataset processado\n",
        "print(data.head())"
      ],
      "metadata": {
        "colab": {
          "base_uri": "https://localhost:8080/"
        },
        "id": "I93En6qBYi70",
        "outputId": "348fbbba-185d-4305-94a1-02fb9934232c"
      },
      "execution_count": null,
      "outputs": [
        {
          "output_type": "stream",
          "name": "stdout",
          "text": [
            "        Age  SibSp  Parch     Fare  Sex_male  Embarked_Q  Embarked_S  \\\n",
            "0  0.386231      0      0   7.8292      True        True       False   \n",
            "1  1.371370      1      0   7.0000     False       False        True   \n",
            "2  2.553537      0      0   9.6875      True        True       False   \n",
            "3 -0.204852      0      0   8.6625      True       False        True   \n",
            "4 -0.598908      1      1  12.2875     False       False        True   \n",
            "\n",
            "   Pclass_2  Pclass_3  \n",
            "0     False      True  \n",
            "1     False      True  \n",
            "2      True     False  \n",
            "3     False      True  \n",
            "4     False      True  \n"
          ]
        }
      ]
    },
    {
      "cell_type": "code",
      "source": [
        "# Treinamento do modelo\n",
        "from sklearn.model_selection import train_test_split\n",
        "from sklearn.ensemble import RandomForestRegressor\n",
        "from sklearn.metrics import mean_absolute_error, mean_squared_error\n",
        "\n",
        "# Dividindo dados em treino e teste\n",
        "X = data.drop('Fare', axis=1)\n",
        "y = data['Fare']\n",
        "X_train, X_test, y_train, y_test = train_test_split(X, y, test_size=0.2, random_state=42)"
      ],
      "metadata": {
        "id": "AysRrayWXLST"
      },
      "execution_count": null,
      "outputs": []
    },
    {
      "cell_type": "code",
      "source": [
        "# Treinando modelo\n",
        "model = RandomForestRegressor()\n",
        "model.fit(X_train, y_train)\n",
        "\n",
        "# Fazendo as Predições\n",
        "y_pred = model.predict(X_test)"
      ],
      "metadata": {
        "id": "xT1mIj2LXWq7"
      },
      "execution_count": null,
      "outputs": []
    },
    {
      "cell_type": "code",
      "source": [
        "# Avaliando o modelo\n",
        "print(\"Mean Absolute Error:\", mean_absolute_error(y_test, y_pred))\n",
        "print(\"Mean Squared Error:\", mean_squared_error(y_test, y_pred))"
      ],
      "metadata": {
        "colab": {
          "base_uri": "https://localhost:8080/"
        },
        "id": "-Hy26S4Fdme_",
        "outputId": "60e27119-d1f7-4fe8-93e3-84a983a5da13"
      },
      "execution_count": null,
      "outputs": [
        {
          "output_type": "stream",
          "name": "stdout",
          "text": [
            "Mean Absolute Error: 17.95496551246691\n",
            "Mean Squared Error: 1322.2294013340634\n"
          ]
        }
      ]
    },
    {
      "cell_type": "code",
      "source": [
        "# Salvando modelo treinado\n",
        "import pickle\n",
        "with open('titanic_fare_model.pkl', 'wb') as f:\n",
        "    pickle.dump(model, f)"
      ],
      "metadata": {
        "id": "JicBs33uW1-_"
      },
      "execution_count": null,
      "outputs": []
    },
    {
      "cell_type": "markdown",
      "source": [
        "# Exemplo 2: Prevendo a Qualidade do Vinho\n",
        "O Wine Quality Dataset contém informações sobre diferentes vinhos e suas respectivas avaliações. Inclui variáveis como o nome da vinícola, tipo de vinho, ano, região, país, preço, tipo de vinho, corpo e acidez, entre outras. O objetivo é prever a classificação do vinho (rating) com base nas outras variáveis do dataset.\n"
      ],
      "metadata": {
        "id": "PVrpLLKSeEVO"
      }
    },
    {
      "cell_type": "code",
      "source": [
        "\"\"\"\n",
        "Descrição do Conjunto de Dados\n",
        "Origem: Kaggle\n",
        "Nome: Spanish Wine Quality Dataset\n",
        "Tamanho: 84 KB\n",
        "Quantidade de Registros: 2588 registros\n",
        "Linhas x Colunas: 2588 linhas x 11 colunas\n",
        "Dados Faltantes: Algumas colunas possuem dados faltantes, como 'price' e 'num_reviews'.\n",
        "\n",
        "Objetivo do Modelo\n",
        "Prever a classificação (rating) dos vinhos com base em variáveis como nome da vinícola, ano, número de avaliações, país, região, preço, tipo de vinho, corpo e acidez.\n",
        "\"\"\""
      ],
      "metadata": {
        "id": "cKTBGx5ngRGz"
      },
      "execution_count": null,
      "outputs": []
    },
    {
      "cell_type": "code",
      "source": [
        "import pandas as pd\n",
        "\n",
        "# Carregando o conjunto de dados\n",
        "data = pd.read_csv('wine_quality_dataset.csv')\n",
        "\n",
        "# Verificando as primeiras linhas do conjunto de dados\n",
        "print(data.head())\n"
      ],
      "metadata": {
        "colab": {
          "base_uri": "https://localhost:8080/"
        },
        "id": "IdHKc5zXZ6Nk",
        "outputId": "f613f8a8-9960-414c-b61a-b29af08acd78"
      },
      "execution_count": null,
      "outputs": [
        {
          "output_type": "stream",
          "name": "stdout",
          "text": [
            "          winery           wine  year  rating  num_reviews country  \\\n",
            "0  Teso La Monja          Tinto  2013     4.9           58  Espana   \n",
            "1         Artadi  Vina El Pison  2018     4.9           31  Espana   \n",
            "2   Vega Sicilia          Unico  2009     4.8         1793  Espana   \n",
            "3   Vega Sicilia          Unico  1999     4.8         1705  Espana   \n",
            "4   Vega Sicilia          Unico  1996     4.8         1309  Espana   \n",
            "\n",
            "             region   price                  type  body  acidity  \n",
            "0              Toro  995.00              Toro Red   5.0      3.0  \n",
            "1    Vino de Espana  313.50           Tempranillo   4.0      2.0  \n",
            "2  Ribera del Duero  324.95  Ribera Del Duero Red   5.0      3.0  \n",
            "3  Ribera del Duero  692.96  Ribera Del Duero Red   5.0      3.0  \n",
            "4  Ribera del Duero  778.06  Ribera Del Duero Red   5.0      3.0  \n"
          ]
        }
      ]
    },
    {
      "cell_type": "code",
      "source": [
        "# Tratando valores faltantes apenas nas variáveis numéricas\n",
        "numeric_cols = data.select_dtypes(include=['int64', 'float64']).columns\n",
        "data[numeric_cols] = data[numeric_cols].fillna(data[numeric_cols].median())\n"
      ],
      "metadata": {
        "id": "k9MFPE-JbwN6"
      },
      "execution_count": null,
      "outputs": []
    },
    {
      "cell_type": "code",
      "source": [
        "# Convertendo variáveis categóricas em variáveis dummy (One-Hot Encoding)\n",
        "data = pd.get_dummies(data)\n",
        "\n",
        "# Verificar as primeiras linhas do conjunto de dados após o pré-processamento\n",
        "print(data.head())"
      ],
      "metadata": {
        "id": "xr2J8uf7b1TR"
      },
      "execution_count": null,
      "outputs": []
    },
    {
      "cell_type": "code",
      "source": [
        "from sklearn.model_selection import train_test_split\n",
        "\n",
        "# Dividindo os dados em features (X) e target (y)\n",
        "X = data.drop('rating', axis=1)\n",
        "y = data['rating']\n",
        "\n",
        "# Dividindo os dados em conjuntos de treinamento e teste\n",
        "X_train, X_test, y_train, y_test = train_test_split(X, y, test_size=0.2, random_state=42)"
      ],
      "metadata": {
        "id": "6ojRBDKDcWj9"
      },
      "execution_count": null,
      "outputs": []
    },
    {
      "cell_type": "code",
      "source": [
        "from sklearn.ensemble import RandomForestRegressor\n",
        "\n",
        "# Inicializando e treinar o modelo\n",
        "model = RandomForestRegressor()\n",
        "model.fit(X_train, y_train)"
      ],
      "metadata": {
        "colab": {
          "base_uri": "https://localhost:8080/",
          "height": 75
        },
        "id": "9UceJEjDcbFI",
        "outputId": "b44d9a7a-9968-403c-bc0c-813f26eeee8f"
      },
      "execution_count": null,
      "outputs": [
        {
          "output_type": "execute_result",
          "data": {
            "text/plain": [
              "RandomForestRegressor()"
            ],
            "text/html": [
              "<style>#sk-container-id-1 {color: black;background-color: white;}#sk-container-id-1 pre{padding: 0;}#sk-container-id-1 div.sk-toggleable {background-color: white;}#sk-container-id-1 label.sk-toggleable__label {cursor: pointer;display: block;width: 100%;margin-bottom: 0;padding: 0.3em;box-sizing: border-box;text-align: center;}#sk-container-id-1 label.sk-toggleable__label-arrow:before {content: \"▸\";float: left;margin-right: 0.25em;color: #696969;}#sk-container-id-1 label.sk-toggleable__label-arrow:hover:before {color: black;}#sk-container-id-1 div.sk-estimator:hover label.sk-toggleable__label-arrow:before {color: black;}#sk-container-id-1 div.sk-toggleable__content {max-height: 0;max-width: 0;overflow: hidden;text-align: left;background-color: #f0f8ff;}#sk-container-id-1 div.sk-toggleable__content pre {margin: 0.2em;color: black;border-radius: 0.25em;background-color: #f0f8ff;}#sk-container-id-1 input.sk-toggleable__control:checked~div.sk-toggleable__content {max-height: 200px;max-width: 100%;overflow: auto;}#sk-container-id-1 input.sk-toggleable__control:checked~label.sk-toggleable__label-arrow:before {content: \"▾\";}#sk-container-id-1 div.sk-estimator input.sk-toggleable__control:checked~label.sk-toggleable__label {background-color: #d4ebff;}#sk-container-id-1 div.sk-label input.sk-toggleable__control:checked~label.sk-toggleable__label {background-color: #d4ebff;}#sk-container-id-1 input.sk-hidden--visually {border: 0;clip: rect(1px 1px 1px 1px);clip: rect(1px, 1px, 1px, 1px);height: 1px;margin: -1px;overflow: hidden;padding: 0;position: absolute;width: 1px;}#sk-container-id-1 div.sk-estimator {font-family: monospace;background-color: #f0f8ff;border: 1px dotted black;border-radius: 0.25em;box-sizing: border-box;margin-bottom: 0.5em;}#sk-container-id-1 div.sk-estimator:hover {background-color: #d4ebff;}#sk-container-id-1 div.sk-parallel-item::after {content: \"\";width: 100%;border-bottom: 1px solid gray;flex-grow: 1;}#sk-container-id-1 div.sk-label:hover label.sk-toggleable__label {background-color: #d4ebff;}#sk-container-id-1 div.sk-serial::before {content: \"\";position: absolute;border-left: 1px solid gray;box-sizing: border-box;top: 0;bottom: 0;left: 50%;z-index: 0;}#sk-container-id-1 div.sk-serial {display: flex;flex-direction: column;align-items: center;background-color: white;padding-right: 0.2em;padding-left: 0.2em;position: relative;}#sk-container-id-1 div.sk-item {position: relative;z-index: 1;}#sk-container-id-1 div.sk-parallel {display: flex;align-items: stretch;justify-content: center;background-color: white;position: relative;}#sk-container-id-1 div.sk-item::before, #sk-container-id-1 div.sk-parallel-item::before {content: \"\";position: absolute;border-left: 1px solid gray;box-sizing: border-box;top: 0;bottom: 0;left: 50%;z-index: -1;}#sk-container-id-1 div.sk-parallel-item {display: flex;flex-direction: column;z-index: 1;position: relative;background-color: white;}#sk-container-id-1 div.sk-parallel-item:first-child::after {align-self: flex-end;width: 50%;}#sk-container-id-1 div.sk-parallel-item:last-child::after {align-self: flex-start;width: 50%;}#sk-container-id-1 div.sk-parallel-item:only-child::after {width: 0;}#sk-container-id-1 div.sk-dashed-wrapped {border: 1px dashed gray;margin: 0 0.4em 0.5em 0.4em;box-sizing: border-box;padding-bottom: 0.4em;background-color: white;}#sk-container-id-1 div.sk-label label {font-family: monospace;font-weight: bold;display: inline-block;line-height: 1.2em;}#sk-container-id-1 div.sk-label-container {text-align: center;}#sk-container-id-1 div.sk-container {/* jupyter's `normalize.less` sets `[hidden] { display: none; }` but bootstrap.min.css set `[hidden] { display: none !important; }` so we also need the `!important` here to be able to override the default hidden behavior on the sphinx rendered scikit-learn.org. See: https://github.com/scikit-learn/scikit-learn/issues/21755 */display: inline-block !important;position: relative;}#sk-container-id-1 div.sk-text-repr-fallback {display: none;}</style><div id=\"sk-container-id-1\" class=\"sk-top-container\"><div class=\"sk-text-repr-fallback\"><pre>RandomForestRegressor()</pre><b>In a Jupyter environment, please rerun this cell to show the HTML representation or trust the notebook. <br />On GitHub, the HTML representation is unable to render, please try loading this page with nbviewer.org.</b></div><div class=\"sk-container\" hidden><div class=\"sk-item\"><div class=\"sk-estimator sk-toggleable\"><input class=\"sk-toggleable__control sk-hidden--visually\" id=\"sk-estimator-id-1\" type=\"checkbox\" checked><label for=\"sk-estimator-id-1\" class=\"sk-toggleable__label sk-toggleable__label-arrow\">RandomForestRegressor</label><div class=\"sk-toggleable__content\"><pre>RandomForestRegressor()</pre></div></div></div></div></div>"
            ]
          },
          "metadata": {},
          "execution_count": 108
        }
      ]
    },
    {
      "cell_type": "code",
      "source": [
        "from sklearn.metrics import mean_absolute_error, mean_squared_error\n",
        "\n",
        "# Fazendo previsões no conjunto de teste\n",
        "y_pred = model.predict(X_test)\n",
        "\n",
        "# Avaliando o modelo\n",
        "print(\"Mean Absolute Error:\", mean_absolute_error(y_test, y_pred))\n",
        "print(\"Mean Squared Error:\", mean_squared_error(y_test, y_pred))"
      ],
      "metadata": {
        "colab": {
          "base_uri": "https://localhost:8080/"
        },
        "id": "DTTIFlmmcthK",
        "outputId": "ac1a352f-1f5b-43f9-8447-315c427a0618"
      },
      "execution_count": null,
      "outputs": [
        {
          "output_type": "stream",
          "name": "stdout",
          "text": [
            "Mean Absolute Error: 0.02204400000008004\n",
            "Mean Squared Error: 0.002691078666666536\n"
          ]
        }
      ]
    },
    {
      "cell_type": "code",
      "source": [
        "# Salvando o modelo treinado\n",
        "joblib.dump(model, 'wine_quality_model.pkl')"
      ],
      "metadata": {
        "colab": {
          "base_uri": "https://localhost:8080/"
        },
        "id": "P_S_-SHpdXe1",
        "outputId": "e8d500c0-ed81-44ef-9d02-1895bf99c373"
      },
      "execution_count": null,
      "outputs": [
        {
          "output_type": "execute_result",
          "data": {
            "text/plain": [
              "['wine_quality_model.pkl']"
            ]
          },
          "metadata": {},
          "execution_count": 110
        }
      ]
    },
    {
      "cell_type": "markdown",
      "source": [
        "# Exemplo 3 - Telecom Customer Churn Prediction"
      ],
      "metadata": {
        "id": "dc_PLMMA_MMq"
      }
    },
    {
      "cell_type": "code",
      "source": [
        "\"\"\"\n",
        "Escolha do Dataset: Telecom Customer Churn Prediction\n",
        "\n",
        "Descrição do Conjunto de Dados\n",
        "Origem: Kaggle\n",
        "Nome: Telecom Customer Churn Prediction\n",
        "Tamanho: 1.4 MB\n",
        "Quantidade de Registros: Não consegui achar a quantidade exata de registros\n",
        "Linhas x Colunas: 7043 linhas x 38 colunas, porém eu não utilizei todas as colunas para fazer a predição\n",
        "Dados Faltantes: em nosso dataset é possivel ver alguns dados que não estão preenchidos, mas vamos tratar esses dados para que isso não afete a nossa predição\n",
        "\n",
        "Objetivo do Modelo\n",
        "Prever se um cliente irá cancelar seu serviço de telecomunicações com base em várias características relacionadas ao cliente e ao serviço prestado.\n",
        "\"\"\""
      ],
      "metadata": {
        "id": "Yj5mndLi_O59"
      },
      "execution_count": null,
      "outputs": []
    },
    {
      "cell_type": "code",
      "source": [
        "import pandas as pd\n",
        "from sklearn.model_selection import train_test_split\n",
        "from sklearn.preprocessing import OneHotEncoder, StandardScaler\n",
        "from sklearn.compose import ColumnTransformer\n",
        "from sklearn.pipeline import Pipeline\n",
        "\n",
        "# Carregando o conjunto de dados\n",
        "df = pd.read_csv('telecom_customer_churn.csv')"
      ],
      "metadata": {
        "id": "aDn1pjEGNX9f"
      },
      "execution_count": 9,
      "outputs": []
    },
    {
      "cell_type": "code",
      "source": [
        "# Exibindo as primeiras linhas do DataFrame\n",
        "print(df.head())"
      ],
      "metadata": {
        "colab": {
          "base_uri": "https://localhost:8080/"
        },
        "collapsed": true,
        "id": "oMobZ03iNaI6",
        "outputId": "c850b973-1ebf-4b28-e3cd-821e00ec9d04"
      },
      "execution_count": 10,
      "outputs": [
        {
          "output_type": "stream",
          "name": "stdout",
          "text": [
            "  Customer ID  Gender  Age Married  Number of Dependents          City  \\\n",
            "0  0002-ORFBO  Female   37     Yes                     0  Frazier Park   \n",
            "1  0003-MKNFE    Male   46      No                     0      Glendale   \n",
            "2  0004-TLHLJ    Male   50      No                     0    Costa Mesa   \n",
            "3  0011-IGKFF    Male   78     Yes                     0      Martinez   \n",
            "4  0013-EXCHZ  Female   75     Yes                     0     Camarillo   \n",
            "\n",
            "   Zip Code   Latitude   Longitude  Number of Referrals  ...   Payment Method  \\\n",
            "0     93225  34.827662 -118.999073                    2  ...      Credit Card   \n",
            "1     91206  34.162515 -118.203869                    0  ...      Credit Card   \n",
            "2     92627  33.645672 -117.922613                    0  ...  Bank Withdrawal   \n",
            "3     94553  38.014457 -122.115432                    1  ...  Bank Withdrawal   \n",
            "4     93010  34.227846 -119.079903                    3  ...      Credit Card   \n",
            "\n",
            "  Monthly Charge Total Charges  Total Refunds Total Extra Data Charges  \\\n",
            "0           65.6        593.30           0.00                        0   \n",
            "1           -4.0        542.40          38.33                       10   \n",
            "2           73.9        280.85           0.00                        0   \n",
            "3           98.0       1237.85           0.00                        0   \n",
            "4           83.9        267.40           0.00                        0   \n",
            "\n",
            "  Total Long Distance Charges Total Revenue  Customer Status   Churn Category  \\\n",
            "0                      381.51        974.81           Stayed              NaN   \n",
            "1                       96.21        610.28           Stayed              NaN   \n",
            "2                      134.60        415.45          Churned       Competitor   \n",
            "3                      361.66       1599.51          Churned  Dissatisfaction   \n",
            "4                       22.14        289.54          Churned  Dissatisfaction   \n",
            "\n",
            "                    Churn Reason  \n",
            "0                            NaN  \n",
            "1                            NaN  \n",
            "2  Competitor had better devices  \n",
            "3        Product dissatisfaction  \n",
            "4            Network reliability  \n",
            "\n",
            "[5 rows x 38 columns]\n"
          ]
        }
      ]
    },
    {
      "cell_type": "code",
      "source": [
        "# Verificando as informações do DataFrame\n",
        "print(df.info())"
      ],
      "metadata": {
        "colab": {
          "base_uri": "https://localhost:8080/"
        },
        "collapsed": true,
        "id": "gp4FqhTsNj3_",
        "outputId": "bbf2dd3f-e219-4894-c7e7-dd051c11d53a"
      },
      "execution_count": 11,
      "outputs": [
        {
          "output_type": "stream",
          "name": "stdout",
          "text": [
            "<class 'pandas.core.frame.DataFrame'>\n",
            "RangeIndex: 7043 entries, 0 to 7042\n",
            "Data columns (total 38 columns):\n",
            " #   Column                             Non-Null Count  Dtype  \n",
            "---  ------                             --------------  -----  \n",
            " 0   Customer ID                        7043 non-null   object \n",
            " 1   Gender                             7043 non-null   object \n",
            " 2   Age                                7043 non-null   int64  \n",
            " 3   Married                            7043 non-null   object \n",
            " 4   Number of Dependents               7043 non-null   int64  \n",
            " 5   City                               7043 non-null   object \n",
            " 6   Zip Code                           7043 non-null   int64  \n",
            " 7   Latitude                           7043 non-null   float64\n",
            " 8   Longitude                          7043 non-null   float64\n",
            " 9   Number of Referrals                7043 non-null   int64  \n",
            " 10  Tenure in Months                   7043 non-null   int64  \n",
            " 11  Offer                              3166 non-null   object \n",
            " 12  Phone Service                      7043 non-null   object \n",
            " 13  Avg Monthly Long Distance Charges  6361 non-null   float64\n",
            " 14  Multiple Lines                     6361 non-null   object \n",
            " 15  Internet Service                   7043 non-null   object \n",
            " 16  Internet Type                      5517 non-null   object \n",
            " 17  Avg Monthly GB Download            5517 non-null   float64\n",
            " 18  Online Security                    5517 non-null   object \n",
            " 19  Online Backup                      5517 non-null   object \n",
            " 20  Device Protection Plan             5517 non-null   object \n",
            " 21  Premium Tech Support               5517 non-null   object \n",
            " 22  Streaming TV                       5517 non-null   object \n",
            " 23  Streaming Movies                   5517 non-null   object \n",
            " 24  Streaming Music                    5517 non-null   object \n",
            " 25  Unlimited Data                     5517 non-null   object \n",
            " 26  Contract                           7043 non-null   object \n",
            " 27  Paperless Billing                  7043 non-null   object \n",
            " 28  Payment Method                     7043 non-null   object \n",
            " 29  Monthly Charge                     7043 non-null   float64\n",
            " 30  Total Charges                      7043 non-null   float64\n",
            " 31  Total Refunds                      7043 non-null   float64\n",
            " 32  Total Extra Data Charges           7043 non-null   int64  \n",
            " 33  Total Long Distance Charges        7043 non-null   float64\n",
            " 34  Total Revenue                      7043 non-null   float64\n",
            " 35  Customer Status                    7043 non-null   object \n",
            " 36  Churn Category                     1869 non-null   object \n",
            " 37  Churn Reason                       1869 non-null   object \n",
            "dtypes: float64(9), int64(6), object(23)\n",
            "memory usage: 2.0+ MB\n",
            "None\n"
          ]
        }
      ]
    },
    {
      "cell_type": "code",
      "source": [
        "# Verificando a distribuição da variável alvo 'Churn'\n",
        "print(df['Churn Category'].value_counts())\n"
      ],
      "metadata": {
        "id": "Zxhvs2lqNpi2"
      },
      "execution_count": null,
      "outputs": []
    },
    {
      "cell_type": "code",
      "source": [
        "# Verificando as estatísticas descritivas das variáveis numéricas\n",
        "print(df.describe())"
      ],
      "metadata": {
        "id": "JhSlSLerNswK"
      },
      "execution_count": null,
      "outputs": []
    },
    {
      "cell_type": "code",
      "source": [
        "# Verificando as estatísticas descritivas das variáveis categóricas\n",
        "print(df.describe(include=['object']))"
      ],
      "metadata": {
        "colab": {
          "base_uri": "https://localhost:8080/"
        },
        "collapsed": true,
        "id": "cx_VRKluNvhJ",
        "outputId": "54e095a8-6620-4858-e392-e6130f8fc229"
      },
      "execution_count": 14,
      "outputs": [
        {
          "output_type": "stream",
          "name": "stdout",
          "text": [
            "       Customer ID Gender Married         City    Offer Phone Service  \\\n",
            "count         7043   7043    7043         7043     3166          7043   \n",
            "unique        7043      2       2         1106        5             2   \n",
            "top     0002-ORFBO   Male      No  Los Angeles  Offer B           Yes   \n",
            "freq             1   3555    3641          293      824          6361   \n",
            "\n",
            "       Multiple Lines Internet Service Internet Type Online Security  ...  \\\n",
            "count            6361             7043          5517            5517  ...   \n",
            "unique              2                2             3               2  ...   \n",
            "top                No              Yes   Fiber Optic              No  ...   \n",
            "freq             3390             5517          3035            3498  ...   \n",
            "\n",
            "       Streaming TV Streaming Movies Streaming Music Unlimited Data  \\\n",
            "count          5517             5517            5517           5517   \n",
            "unique            2                2               2              2   \n",
            "top              No               No              No            Yes   \n",
            "freq           2810             2785            3029           4745   \n",
            "\n",
            "              Contract Paperless Billing   Payment Method Customer Status  \\\n",
            "count             7043              7043             7043            7043   \n",
            "unique               3                 2                3               3   \n",
            "top     Month-to-Month               Yes  Bank Withdrawal          Stayed   \n",
            "freq              3610              4171             3909            4720   \n",
            "\n",
            "       Churn Category                   Churn Reason  \n",
            "count            1869                           1869  \n",
            "unique              5                             20  \n",
            "top        Competitor  Competitor had better devices  \n",
            "freq              841                            313  \n",
            "\n",
            "[4 rows x 23 columns]\n"
          ]
        }
      ]
    },
    {
      "cell_type": "code",
      "source": [
        "# Verificando valores ausentes\n",
        "print(df.isnull().sum())"
      ],
      "metadata": {
        "colab": {
          "base_uri": "https://localhost:8080/"
        },
        "collapsed": true,
        "id": "B_LZdXrlGtVe",
        "outputId": "15d4d244-fe6a-442f-a880-ac17f9210a91"
      },
      "execution_count": 15,
      "outputs": [
        {
          "output_type": "stream",
          "name": "stdout",
          "text": [
            "Customer ID                             0\n",
            "Gender                                  0\n",
            "Age                                     0\n",
            "Married                                 0\n",
            "Number of Dependents                    0\n",
            "City                                    0\n",
            "Zip Code                                0\n",
            "Latitude                                0\n",
            "Longitude                               0\n",
            "Number of Referrals                     0\n",
            "Tenure in Months                        0\n",
            "Offer                                3877\n",
            "Phone Service                           0\n",
            "Avg Monthly Long Distance Charges     682\n",
            "Multiple Lines                        682\n",
            "Internet Service                        0\n",
            "Internet Type                        1526\n",
            "Avg Monthly GB Download              1526\n",
            "Online Security                      1526\n",
            "Online Backup                        1526\n",
            "Device Protection Plan               1526\n",
            "Premium Tech Support                 1526\n",
            "Streaming TV                         1526\n",
            "Streaming Movies                     1526\n",
            "Streaming Music                      1526\n",
            "Unlimited Data                       1526\n",
            "Contract                                0\n",
            "Paperless Billing                       0\n",
            "Payment Method                          0\n",
            "Monthly Charge                          0\n",
            "Total Charges                           0\n",
            "Total Refunds                           0\n",
            "Total Extra Data Charges                0\n",
            "Total Long Distance Charges             0\n",
            "Total Revenue                           0\n",
            "Customer Status                         0\n",
            "Churn Category                       5174\n",
            "Churn Reason                         5174\n",
            "dtype: int64\n"
          ]
        }
      ]
    },
    {
      "cell_type": "code",
      "source": [
        "# Lidando com valores ausentes\n",
        "data.fillna(method='ffill', inplace=True)  # Preencher valores ausentes com os valores anteriores"
      ],
      "metadata": {
        "id": "3HAOjjnfQ6lG"
      },
      "execution_count": 20,
      "outputs": []
    },
    {
      "cell_type": "code",
      "source": [
        "# Separando features e target\n",
        "X = data.drop(columns=['Customer Status', 'Churn Reason'])  # Excluindo 'Customer Status' (target) e 'Churn Reason' (se houver)\n",
        "y = data['Customer Status']"
      ],
      "metadata": {
        "id": "jmNSLAhxQ9bz"
      },
      "execution_count": 21,
      "outputs": []
    },
    {
      "cell_type": "code",
      "source": [
        "# Dividindo o conjunto de dados em treinamento e teste\n",
        "X_train, X_test, y_train, y_test = train_test_split(X, y, test_size=0.2, random_state=42)"
      ],
      "metadata": {
        "id": "naOaXalTQ_ah"
      },
      "execution_count": 22,
      "outputs": []
    },
    {
      "cell_type": "code",
      "source": [
        "# Identificando colunas categóricas e numéricas\n",
        "categorical_cols = X.select_dtypes(include=['object']).columns.tolist()\n",
        "numeric_cols = X.select_dtypes(include=['float64', 'int64']).columns.tolist()"
      ],
      "metadata": {
        "id": "yey49vXSRA2i"
      },
      "execution_count": 23,
      "outputs": []
    },
    {
      "cell_type": "code",
      "source": [
        "# Pipeline para pré-processamento\n",
        "numeric_transformer = Pipeline(steps=[\n",
        "    ('scaler', StandardScaler())\n",
        "])\n",
        "\n",
        "categorical_transformer = Pipeline(steps=[\n",
        "    ('onehot', OneHotEncoder(handle_unknown='ignore'))\n",
        "])\n",
        "\n",
        "preprocessor = ColumnTransformer(\n",
        "    transformers=[\n",
        "        ('num', numeric_transformer, numeric_cols),\n",
        "        ('cat', categorical_transformer, categorical_cols)\n",
        "    ])"
      ],
      "metadata": {
        "id": "ZzmrVyMGRCcK"
      },
      "execution_count": 24,
      "outputs": []
    },
    {
      "cell_type": "code",
      "source": [
        "from sklearn.ensemble import RandomForestClassifier\n",
        "classifier = RandomForestClassifier()  # Exemplo com RandomForestClassifier"
      ],
      "metadata": {
        "id": "Bkl5q1R7RHKe"
      },
      "execution_count": 25,
      "outputs": []
    },
    {
      "cell_type": "code",
      "source": [
        "# Criando o pipeline completo\n",
        "clf = Pipeline(steps=[('preprocessor', preprocessor),\n",
        "                      ('classifier', classifier)])"
      ],
      "metadata": {
        "id": "JgVfEE_vRK5E"
      },
      "execution_count": 26,
      "outputs": []
    },
    {
      "cell_type": "code",
      "source": [
        "# Treinando o modelo\n",
        "clf.fit(X_train, y_train)\n",
        "\n",
        "# Avaliando o modelo\n",
        "train_accuracy = clf.score(X_train, y_train)\n",
        "test_accuracy = clf.score(X_test, y_test)\n",
        "\n",
        "print(f'Acurácia no conjunto de treinamento: {train_accuracy}')\n",
        "print(f'Acurácia no conjunto de teste: {test_accuracy}')\n",
        "import pickle\n",
        "\n",
        "import joblib\n",
        "\n",
        "# Salvando o modelo treinado\n",
        "joblib.dump(model, 'telecom_model.pkl')\n"
      ],
      "metadata": {
        "colab": {
          "base_uri": "https://localhost:8080/"
        },
        "id": "InZZq31UOF55",
        "outputId": "2361d58f-3310-481c-9333-082bd6ef5ec1"
      },
      "execution_count": 28,
      "outputs": [
        {
          "output_type": "stream",
          "name": "stdout",
          "text": [
            "Acurácia no conjunto de treinamento: 1.0\n",
            "Acurácia no conjunto de teste: 0.8176011355571328\n"
          ]
        },
        {
          "output_type": "execute_result",
          "data": {
            "text/plain": [
              "['telecom_model.pkl']"
            ]
          },
          "metadata": {},
          "execution_count": 28
        }
      ]
    },
    {
      "cell_type": "markdown",
      "source": [
        "# Considerações Finais:\n",
        "Tive alguns problemas durante o desenvolvimento, desde achar um bom dataset do meu interesse até o desenvolvimento de fato, depois de finalizado, eu tinha ido dar uma olhada nas aulas novamente, e acabei percebendo a semelhança em um dos exemplos com um utilizado em aula (provavelmente não participei dessa aula no dia) mas no final acho que ocorreu tudo certo.\n"
      ],
      "metadata": {
        "id": "6s4t-xGwbvl3"
      }
    }
  ]
}